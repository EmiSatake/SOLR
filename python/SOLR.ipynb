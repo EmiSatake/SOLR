{
 "cells": [
  {
   "cell_type": "code",
   "execution_count": 25,
   "metadata": {
    "collapsed": true
   },
   "outputs": [],
   "source": [
    "import numpy\n",
    "import SOLRsubfunc\n",
    "from sklearn.base import BaseEstimator, ClassifierMixin\n",
    "class SOLR(BaseEstimator, ClassifierMixin):\n",
    "    def __init__(self):\n",
    "        print \"SOLR (sparse ordinal logistic regression)\"\n",
    "    \n",
    "    def fit(self,feature,label):\n",
    "        #feature: matrix, whose size is # of samples by # of dimensions.\n",
    "        #label: label vector, whose size is # of samples.\n",
    "        #       If you treat a classification problem with C classes, please use 0,1,2,...,(C-1) to indicate classes\n",
    "        \n",
    "        model=dict()\n",
    "        model['alpha']=numpy.ones(numpy.shape(feature)[1])\n",
    "        model['beta']=numpy.ones(numpy.shape(feature)[1])\n",
    "        model['mu']=numpy.linspace(-1,1,numpy.max(label))\n",
    "        #Variational baysian method (see Yamashita et al., 2008)\n",
    "        for iteration in range(100):\n",
    "            \n",
    "            #beta & mu update\n",
    "            for subIteration in range(3):\n",
    "                model=SOLRsubfunc.updateBeta(feature,label,model)\n",
    "                model=SOLRsubfunc.updateMu(feature,label,model)\n",
    "\n",
    "            #alpha update\n",
    "            model=SOLRsubfunc.updateAlpha(feature,label,model)\n",
    "            \n",
    "            \n",
    "            #show progress\n",
    "            if iteration%20==0:\n",
    "                print \"# of iterations: %d ,  # of effective dimensions: %d\" %(iteration,len(numpy.nonzero(model['beta'])[0]))\n",
    "    \n",
    "        \n",
    "                    \n",
    "        self.coef_= model['beta']\n",
    "        self.mu_= model['mu']\n",
    "        return model['beta']\n",
    "\n",
    "    def predict_proba(self,feature):\n",
    "        p=SOLRsubfunc.calcProbability(feature,self.coef_,self.mu_)\n",
    "        return p\n",
    "    \n",
    "    def predict(self,feature):\n",
    "        p=SOLRsubfunc.calcProbability(feature,self.coef_,self.mu_)\n",
    "        predicted_label=list([])\n",
    "        for index_sample in range(numpy.shape(p)[0]):\n",
    "            predicted_label.append(numpy.argmax(p[index_sample,:]))\n",
    "        return predicted_label\n"
   ]
  }
 ],
 "metadata": {
  "kernelspec": {
   "display_name": "Python 2",
   "language": "python",
   "name": "python2"
  },
  "language_info": {
   "codemirror_mode": {
    "name": "ipython",
    "version": 2
   },
   "file_extension": ".py",
   "mimetype": "text/x-python",
   "name": "python",
   "nbconvert_exporter": "python",
   "pygments_lexer": "ipython2",
   "version": "2.7.9"
  }
 },
 "nbformat": 4,
 "nbformat_minor": 0
}
